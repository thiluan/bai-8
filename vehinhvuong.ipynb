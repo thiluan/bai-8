{
 "cells": [
  {
   "cell_type": "code",
   "execution_count": 5,
   "id": "3a706d8b",
   "metadata": {},
   "outputs": [
    {
     "name": "stdout",
     "output_type": "stream",
     "text": [
      "Nhập kích thước cạnh: 100\n"
     ]
    }
   ],
   "source": [
    "# Vẽ hình vuông sử dụng vòng lặp while\n",
    "import turtle\n",
    "t=turtle.Turtle()\n",
    "t.color(\"red\")\n",
    "a=int(input(\"Nhập kích thước cạnh: \"))\n",
    "edge=0\n",
    "while edge < 4:\n",
    "    t.forward(a)\n",
    "    t.left(90)\n",
    "    edge+=1\n",
    "    \n"
   ]
  },
  {
   "cell_type": "code",
   "execution_count": null,
   "id": "d53979ac",
   "metadata": {},
   "outputs": [],
   "source": []
  }
 ],
 "metadata": {
  "kernelspec": {
   "display_name": "Python 3",
   "language": "python",
   "name": "python3"
  },
  "language_info": {
   "codemirror_mode": {
    "name": "ipython",
    "version": 3
   },
   "file_extension": ".py",
   "mimetype": "text/x-python",
   "name": "python",
   "nbconvert_exporter": "python",
   "pygments_lexer": "ipython3",
   "version": "3.8.8"
  }
 },
 "nbformat": 4,
 "nbformat_minor": 5
}
