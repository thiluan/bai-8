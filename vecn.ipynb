{
 "cells": [
  {
   "cell_type": "code",
   "execution_count": 1,
   "id": "1e4a3cd4",
   "metadata": {},
   "outputs": [
    {
     "name": "stdout",
     "output_type": "stream",
     "text": [
      "          \n"
     ]
    }
   ],
   "source": [
    "#Hãy viết một chương trình vẽ hình chữ nhật trên màn hình Terminal (sử dụng lệnh print).\n",
    "#Đầu vào:\n",
    "#Nhập vào chiều dài và chiều rộng của hình chữ nhật.\n",
    "#Đầu ra:\n",
    "#Hiển thị hình chữ nhật bằng cách kết hợp các kí tự * (sao) và \" \" (khoảng trắng).\n",
    "#Ví dụ: Nhập vào chiều dài = 5, chiều rộng = 10. Kết quả trên màn hình sẽ như sau:\n",
    "#image.png\n",
    "\n"
   ]
  },
  {
   "cell_type": "code",
   "execution_count": 11,
   "id": "249da83d",
   "metadata": {},
   "outputs": [
    {
     "name": "stdout",
     "output_type": "stream",
     "text": [
      "nhập vao chiều dai hình chữ nhật: 10\n",
      "nhập vào chiều rộng hình chữ nhật: 4\n",
      "**********\n",
      "*        *\n",
      "*        *\n",
      "*        *\n",
      "*        *\n",
      "**********\n"
     ]
    }
   ],
   "source": [
    "dai=int(input(\"nhập vao chiều dai hình chữ nhật: \"))\n",
    "rong=int(input(\"nhập vào chiều rộng hình chữ nhật: \"))\n",
    "print(str(dai*\"*\"))\n",
    "for i in range(rong):\n",
    "     print(\"*\"+str((dai-2)*\" \")+\"*\")\n",
    "print(str(dai*\"*\"))"
   ]
  },
  {
   "cell_type": "code",
   "execution_count": null,
   "id": "9489f540",
   "metadata": {},
   "outputs": [],
   "source": []
  }
 ],
 "metadata": {
  "kernelspec": {
   "display_name": "Python 3",
   "language": "python",
   "name": "python3"
  },
  "language_info": {
   "codemirror_mode": {
    "name": "ipython",
    "version": 3
   },
   "file_extension": ".py",
   "mimetype": "text/x-python",
   "name": "python",
   "nbconvert_exporter": "python",
   "pygments_lexer": "ipython3",
   "version": "3.8.8"
  }
 },
 "nbformat": 4,
 "nbformat_minor": 5
}
