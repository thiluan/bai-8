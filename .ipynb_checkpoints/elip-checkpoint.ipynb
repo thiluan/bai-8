{
 "cells": [
  {
   "cell_type": "code",
   "execution_count": null,
   "id": "2730bf54",
   "metadata": {
    "scrolled": false
   },
   "outputs": [],
   "source": [
    "import turtle\n",
    "t=turtle.Turtle()\n",
    "x=0\n",
    "while x<=1:\n",
    "    t.circle(100,90)\n",
    "    t.circle(50,90)"
   ]
  },
  {
   "cell_type": "code",
   "execution_count": null,
   "id": "08e910bd",
   "metadata": {},
   "outputs": [],
   "source": []
  }
 ],
 "metadata": {
  "kernelspec": {
   "display_name": "Python 3",
   "language": "python",
   "name": "python3"
  },
  "language_info": {
   "codemirror_mode": {
    "name": "ipython",
    "version": 3
   },
   "file_extension": ".py",
   "mimetype": "text/x-python",
   "name": "python",
   "nbconvert_exporter": "python",
   "pygments_lexer": "ipython3",
   "version": "3.8.8"
  }
 },
 "nbformat": 4,
 "nbformat_minor": 5
}
