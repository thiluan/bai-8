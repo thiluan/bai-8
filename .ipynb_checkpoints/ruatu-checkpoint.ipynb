{
 "cells": [
  {
   "cell_type": "code",
   "execution_count": 1,
   "id": "15b6333c",
   "metadata": {},
   "outputs": [
    {
     "ename": "NameError",
     "evalue": "name 'a' is not defined",
     "output_type": "error",
     "traceback": [
      "\u001b[1;31m---------------------------------------------------------------------------\u001b[0m",
      "\u001b[1;31mNameError\u001b[0m                                 Traceback (most recent call last)",
      "\u001b[1;32m<ipython-input-1-008f4496b6e6>\u001b[0m in \u001b[0;36m<module>\u001b[1;34m\u001b[0m\n\u001b[0;32m     21\u001b[0m     \u001b[0mt\u001b[0m\u001b[1;33m.\u001b[0m\u001b[0mforward\u001b[0m\u001b[1;33m(\u001b[0m\u001b[1;36m190\u001b[0m\u001b[1;33m)\u001b[0m\u001b[1;33m\u001b[0m\u001b[1;33m\u001b[0m\u001b[0m\n\u001b[0;32m     22\u001b[0m     \u001b[0mt\u001b[0m\u001b[1;33m.\u001b[0m\u001b[0mgoto\u001b[0m\u001b[1;33m(\u001b[0m\u001b[1;36m0\u001b[0m\u001b[1;33m,\u001b[0m\u001b[1;36m0\u001b[0m\u001b[1;33m)\u001b[0m\u001b[1;33m\u001b[0m\u001b[1;33m\u001b[0m\u001b[0m\n\u001b[1;32m---> 23\u001b[1;33m     \u001b[0mt\u001b[0m\u001b[1;33m.\u001b[0m\u001b[0mright\u001b[0m\u001b[1;33m(\u001b[0m\u001b[0ma\u001b[0m\u001b[1;33m)\u001b[0m\u001b[1;33m\u001b[0m\u001b[1;33m\u001b[0m\u001b[0m\n\u001b[0m\u001b[0;32m     24\u001b[0m     \u001b[0mx\u001b[0m \u001b[1;33m+=\u001b[0m\u001b[1;36m1\u001b[0m\u001b[1;33m\u001b[0m\u001b[1;33m\u001b[0m\u001b[0m\n\u001b[0;32m     25\u001b[0m \u001b[1;33m\u001b[0m\u001b[0m\n",
      "\u001b[1;31mNameError\u001b[0m: name 'a' is not defined"
     ]
    }
   ],
   "source": [
    "# Vẽ vòng tròn thể hiện vòng giới hạn, không cho rùa chạy ra khỏi vòng này. \n",
    "# Vị trí ban đầu của rùa ở chính giữa vòng tròn, hướng rùa chạy ngẫu nhiên. \n",
    "# Khi rùa chạy gặp phải vòng tròn thì bị bắt về lại đúng vị trí ban đầu, chính giữa vòng tròn, \n",
    "# rùa tiếp tục cố gắng thoát khỏi vòng tròn theo hướng khác. \n",
    "# Cứ như thế, rùa không bao giờ thoát ra khỏi vòng tròn.\n",
    "# Chương trình kết thúc khi số lần cố gắng trốn thoát của rùa = 10.\n",
    "import turtle\n",
    "import random as r\n",
    "t=turtle.Turtle()\n",
    "t.shape(\"turtle\")\n",
    "t.penup()\n",
    "t.goto(0,-200)\n",
    "t.pendown()\n",
    "t.circle(200)\n",
    "t.penup()\n",
    "t.goto(0,0)\n",
    "t.color(\"green\")\n",
    "x=0\n",
    "while x < 10:\n",
    "    t.speed(1)\n",
    "    t.forward(190)\n",
    "    t.goto(0,0)\n",
    "    a=r.randint(0,369)\n",
    "    t.right(a)\n",
    "    x +=1\n",
    "    \n",
    "    \n",
    "\n"
   ]
  },
  {
   "cell_type": "code",
   "execution_count": null,
   "id": "0308ab9a",
   "metadata": {},
   "outputs": [],
   "source": []
  }
 ],
 "metadata": {
  "kernelspec": {
   "display_name": "Python 3",
   "language": "python",
   "name": "python3"
  },
  "language_info": {
   "codemirror_mode": {
    "name": "ipython",
    "version": 3
   },
   "file_extension": ".py",
   "mimetype": "text/x-python",
   "name": "python",
   "nbconvert_exporter": "python",
   "pygments_lexer": "ipython3",
   "version": "3.8.8"
  }
 },
 "nbformat": 4,
 "nbformat_minor": 5
}
