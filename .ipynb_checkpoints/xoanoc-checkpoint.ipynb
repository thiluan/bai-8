{
 "cells": [
  {
   "cell_type": "code",
   "execution_count": 2,
   "id": "8223ce36",
   "metadata": {},
   "outputs": [],
   "source": [
    "import turtle\n",
    "import random\n",
    "t=turtle.Turtle()\n",
    "colors=[\"red\",\"blue\",\"green\",\"brown\",\"pink\",\"orange\"]\n",
    "i=0\n",
    "while i<50:\n",
    "    r=random.randint(0,5)\n",
    "    random_color=colors[r]\n",
    "    t.pencolor(random_color)\n",
    "    t.forward(i)\n",
    "    t.left(15)\n",
    "    i+=0.1\n",
    "    "
   ]
  },
  {
   "cell_type": "code",
   "execution_count": null,
   "id": "b6e50d5f",
   "metadata": {},
   "outputs": [],
   "source": []
  }
 ],
 "metadata": {
  "kernelspec": {
   "display_name": "Python 3",
   "language": "python",
   "name": "python3"
  },
  "language_info": {
   "codemirror_mode": {
    "name": "ipython",
    "version": 3
   },
   "file_extension": ".py",
   "mimetype": "text/x-python",
   "name": "python",
   "nbconvert_exporter": "python",
   "pygments_lexer": "ipython3",
   "version": "3.8.8"
  }
 },
 "nbformat": 4,
 "nbformat_minor": 5
}
