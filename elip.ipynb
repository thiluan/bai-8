{
 "cells": [
  {
   "cell_type": "code",
   "execution_count": 1,
   "id": "2730bf54",
   "metadata": {
    "scrolled": false
   },
   "outputs": [],
   "source": [
    "import turtle\n",
    "import random\n",
    "colors=[\"blue\",\"red\",\"green\",\"yellow\",\"grey\",\"black\"]\n",
    "t=turtle.Turtle()\n",
    "t.speed(10)\n",
    "t.pensize(2)\n",
    "x=0\n",
    "while x<36:\n",
    "    ran_number=random.randint(0,5)\n",
    "    random_color=colors[ran_number]\n",
    "    t.pencolor(random_color)\n",
    "    for i in range(2):\n",
    "        t.circle(100,90)\n",
    "        t.circle(50,90)\n",
    "    t.left(10)\n",
    "    x+=1    "
   ]
  },
  {
   "cell_type": "code",
   "execution_count": null,
   "id": "08e910bd",
   "metadata": {},
   "outputs": [],
   "source": []
  }
 ],
 "metadata": {
  "kernelspec": {
   "display_name": "Python 3",
   "language": "python",
   "name": "python3"
  },
  "language_info": {
   "codemirror_mode": {
    "name": "ipython",
    "version": 3
   },
   "file_extension": ".py",
   "mimetype": "text/x-python",
   "name": "python",
   "nbconvert_exporter": "python",
   "pygments_lexer": "ipython3",
   "version": "3.8.8"
  }
 },
 "nbformat": 4,
 "nbformat_minor": 5
}
