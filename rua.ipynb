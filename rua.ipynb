{
 "cells": [
  {
   "cell_type": "code",
   "execution_count": 2,
   "id": "ba609c53",
   "metadata": {},
   "outputs": [],
   "source": [
    "# Viết chương trình để rùa chạy \n",
    "# từ bên trái màn hình sang bên phải,\n",
    "# lúc rùa chạy các nét vẽ không liền nhau, giá trị độ dài các nét vẽ tùy ý.\n",
    "import turtle\n",
    "t=turtle.Turtle()\n",
    "t.shape(\"turtle\")\n",
    "t.pensize(5)\n",
    "t.speed(1)\n",
    "t.color(\"green\")\n",
    "x=0\n",
    "while x<=10:\n",
    "    t.forward(10)\n",
    "    t.penup()\n",
    "    t.forward(10)\n",
    "    t.pendown()\n",
    "    x+=1"
   ]
  },
  {
   "cell_type": "code",
   "execution_count": null,
   "id": "5e8adebf",
   "metadata": {},
   "outputs": [],
   "source": [
    "# Import thư viện đồ họa turtle\n",
    "import turtle\n",
    "# Import thư viện sinh số ngẫu nhiên\n",
    "import random as r\n",
    "# khởi tạo turtle\n",
    "t = turtle.Turtle()\n",
    "t.shape(\"turtle\")\n",
    "# Ẩn hình ảnh rùa\n",
    "t.hideturtle()\n",
    "t.pensize(3)\n",
    "t.color(\"blue\")\n",
    "t.speed(1)\n",
    "t.penup()\n",
    "# Đặt vị trí ban đầu của con rùa sang bên trái\n",
    "# so với vị trí giữa màn hình 400 pixel\n",
    "# Mục đích để rùa chạy không ra khỏi màn hình\n",
    "# khi vòng lặp quá lớn\n",
    "t.goto(-400, 0)\n",
    "# Hiển thị hình ảnh con rùa\n",
    "t.showturtle()\n",
    "count = 0\n",
    "while count < 10:\n",
    "    # sinh hai giá trị ngẫu nhiên\n",
    "    down = r.randint(20, 50)\n",
    "    up = r.randint(20, 50)\n",
    "    t.pendown()\n",
    "    # rùa tiến về phía trước với giá trị ngẫu\n",
    "    # nhiên ở trên, có để lại nét vẽ\n",
    "    t.forward(down)\n",
    "    t.penup()\n",
    "    # rùa tiến về phía trước với giá trị ngẫu\n",
    "    # nhiên ở trên, không để lại nét vẽ\n",
    "    t.forward(up)\n",
    "    count += 1\n",
    "turtle.done()"
   ]
  },
  {
   "cell_type": "code",
   "execution_count": null,
   "id": "c5d09463",
   "metadata": {},
   "outputs": [],
   "source": []
  }
 ],
 "metadata": {
  "kernelspec": {
   "display_name": "Python 3",
   "language": "python",
   "name": "python3"
  },
  "language_info": {
   "codemirror_mode": {
    "name": "ipython",
    "version": 3
   },
   "file_extension": ".py",
   "mimetype": "text/x-python",
   "name": "python",
   "nbconvert_exporter": "python",
   "pygments_lexer": "ipython3",
   "version": "3.8.8"
  }
 },
 "nbformat": 4,
 "nbformat_minor": 5
}
